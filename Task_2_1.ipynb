{
  "nbformat": 4,
  "nbformat_minor": 0,
  "metadata": {
    "colab": {
      "name": "Task 2.1.ipynb",
      "provenance": [],
      "collapsed_sections": []
    },
    "kernelspec": {
      "name": "python3",
      "display_name": "Python 3"
    },
    "language_info": {
      "name": "python"
    },
    "accelerator": "GPU"
  },
  "cells": [
    {
      "cell_type": "code",
      "execution_count": null,
      "metadata": {
        "id": "P3NokfKh2_qy"
      },
      "outputs": [],
      "source": [
        "!pip install kaggle"
      ]
    },
    {
      "cell_type": "code",
      "source": [
        "!mkdir ~/.kaggle"
      ],
      "metadata": {
        "colab": {
          "base_uri": "https://localhost:8080/"
        },
        "id": "k2leLV87AnPl",
        "outputId": "9e6c2d6f-1106-4f84-e306-cc0639fb3ac5"
      },
      "execution_count": null,
      "outputs": [
        {
          "output_type": "stream",
          "name": "stdout",
          "text": [
            "mkdir: cannot create directory ‘/root/.kaggle’: File exists\n"
          ]
        }
      ]
    },
    {
      "cell_type": "code",
      "source": [
        "! cp kaggle.json ~/.kaggle/\n",
        "! chmod 600 ~/.kaggle/kaggle.json"
      ],
      "metadata": {
        "id": "OuDBd4SfAyTb"
      },
      "execution_count": null,
      "outputs": []
    },
    {
      "cell_type": "code",
      "source": [
        "! kaggle datasets download anujms/car-damage-detection"
      ],
      "metadata": {
        "colab": {
          "base_uri": "https://localhost:8080/"
        },
        "id": "w09hT9vJA4D_",
        "outputId": "80e67cdb-2419-49db-e838-bdf348fb9f70"
      },
      "execution_count": null,
      "outputs": [
        {
          "output_type": "stream",
          "name": "stdout",
          "text": [
            "car-damage-detection.zip: Skipping, found more recently modified local copy (use --force to force download)\n"
          ]
        }
      ]
    },
    {
      "cell_type": "code",
      "source": [
        "! unzip car-damage-detection.zip"
      ],
      "metadata": {
        "id": "ImmG8_czA9MS"
      },
      "execution_count": null,
      "outputs": []
    },
    {
      "cell_type": "code",
      "source": [
        "import numpy as np\n",
        "import pandas as pd\n",
        "import os\n",
        "import tensorflow as tf\n",
        "from tensorflow import keras\n",
        "import matplotlib.pyplot as plt\n",
        "from tensorflow.keras.optimizers import RMSprop\n",
        "from tensorflow.keras.preprocessing.image import ImageDataGenerator"
      ],
      "metadata": {
        "id": "NPUFSG5BBECY"
      },
      "execution_count": 49,
      "outputs": []
    },
    {
      "cell_type": "code",
      "source": [
        "#defining the base, train and validation directory path\n",
        "base_dir = 'data1a'\n",
        "train_dir = os.path.join(base_dir, 'training')\n",
        "validation_dir = os.path.join(base_dir, 'validation')"
      ],
      "metadata": {
        "id": "7zwlVIdVPPz3"
      },
      "execution_count": 50,
      "outputs": []
    },
    {
      "cell_type": "code",
      "source": [
        "#defining the damage and whole , train nand validation directory\n",
        "train_damage_dir = os.path.join(train_dir, '00-damage')\n",
        "train_whole_dir = os.path.join(train_dir, '01-whole')\n",
        "validation_damage_dir = os.path.join(validation_dir, '00-damage')\n",
        "validation_whole_dir = os.path.join(validation_dir, '01-whole')"
      ],
      "metadata": {
        "id": "QUPLFm7qBj6b"
      },
      "execution_count": 51,
      "outputs": []
    },
    {
      "cell_type": "code",
      "source": [
        "#data augmentation\n",
        "train_datagen = ImageDataGenerator(rescale=1./255)\n",
        "test_datagen = ImageDataGenerator(rescale=1./255)"
      ],
      "metadata": {
        "id": "BRGNFwzfBsi5"
      },
      "execution_count": 52,
      "outputs": []
    },
    {
      "cell_type": "code",
      "source": [
        "train_generator = train_datagen.flow_from_directory(\n",
        "        train_dir,  \n",
        "        target_size=(150, 150), \n",
        "        batch_size=10,\n",
        "        class_mode='binary')\n",
        "\n",
        "validation_generator = test_datagen.flow_from_directory(\n",
        "        validation_dir,\n",
        "        target_size=(150, 150),\n",
        "        batch_size=10,\n",
        "        class_mode='binary')"
      ],
      "metadata": {
        "colab": {
          "base_uri": "https://localhost:8080/"
        },
        "id": "cVF3GBz_B3g5",
        "outputId": "8319c9fe-8edb-43ca-d0a1-865d9845f8e4"
      },
      "execution_count": 53,
      "outputs": [
        {
          "output_type": "stream",
          "name": "stdout",
          "text": [
            "Found 1840 images belonging to 2 classes.\n",
            "Found 460 images belonging to 2 classes.\n"
          ]
        }
      ]
    },
    {
      "cell_type": "code",
      "source": [
        "model = keras.Sequential()\n",
        "\n",
        "# Convolutional layer and maxpool layer 1\n",
        "model.add(keras.layers.Conv2D(32,(3,3),activation='relu',input_shape=(150,150,3)))\n",
        "model.add(keras.layers.MaxPool2D(2,2))\n",
        "\n",
        "# Convolutional layer and maxpool layer 2\n",
        "model.add(keras.layers.Conv2D(64,(3,3),activation='relu'))\n",
        "model.add(keras.layers.MaxPool2D(2,2))\n",
        "\n",
        "# Convolutional layer and maxpool layer 3\n",
        "model.add(keras.layers.Conv2D(128,(3,3),activation='relu'))\n",
        "model.add(keras.layers.MaxPool2D(2,2))\n",
        "\n",
        "# Convolutional layer and maxpool layer 4\n",
        "model.add(keras.layers.Conv2D(128,(3,3),activation='relu'))\n",
        "model.add(keras.layers.MaxPool2D(2,2))\n",
        "\n",
        "# This layer flattens the resulting image array to 1D array\n",
        "model.add(keras.layers.Flatten())\n",
        "\n",
        "# Hidden layer with 512 neurons and Rectified Linear Unit activation function \n",
        "model.add(keras.layers.Dense(512,activation='relu'))\n",
        "\n",
        "# Output layer with single neuron which gives 0 for Cat or 1 for Dog \n",
        "#Here we use sigmoid activation function which makes our model output to lie between 0 and 1\n",
        "model.add(keras.layers.Dense(1,activation='sigmoid'))"
      ],
      "metadata": {
        "id": "-xCwacifKprw"
      },
      "execution_count": 54,
      "outputs": []
    },
    {
      "cell_type": "code",
      "source": [
        "model.compile(optimizer='adam',loss='binary_crossentropy',metrics=['accuracy'])"
      ],
      "metadata": {
        "id": "QjZbLuodLBp5"
      },
      "execution_count": 55,
      "outputs": []
    },
    {
      "cell_type": "code",
      "source": [
        "#steps_per_epoch = train_imagesize/batch_size\n",
        "model.fit_generator(train_generator,\n",
        "         steps_per_epoch = 184,\n",
        "         epochs = 10,\n",
        "         validation_data = validation_generator\n",
        "       )"
      ],
      "metadata": {
        "colab": {
          "base_uri": "https://localhost:8080/"
        },
        "id": "KviltLJMLGQj",
        "outputId": "9ea43f9f-db91-452b-f13e-880e8cfd4348"
      },
      "execution_count": 56,
      "outputs": [
        {
          "output_type": "stream",
          "name": "stdout",
          "text": [
            "Epoch 1/10\n"
          ]
        },
        {
          "output_type": "stream",
          "name": "stderr",
          "text": [
            "/usr/local/lib/python3.7/dist-packages/ipykernel_launcher.py:5: UserWarning: `Model.fit_generator` is deprecated and will be removed in a future version. Please use `Model.fit`, which supports generators.\n",
            "  \"\"\"\n"
          ]
        },
        {
          "output_type": "stream",
          "name": "stdout",
          "text": [
            "184/184 [==============================] - 14s 72ms/step - loss: 0.6815 - accuracy: 0.5810 - val_loss: 0.6707 - val_accuracy: 0.6261\n",
            "Epoch 2/10\n",
            "184/184 [==============================] - 13s 70ms/step - loss: 0.6312 - accuracy: 0.6598 - val_loss: 0.6219 - val_accuracy: 0.6652\n",
            "Epoch 3/10\n",
            "184/184 [==============================] - 13s 71ms/step - loss: 0.5802 - accuracy: 0.6984 - val_loss: 0.5573 - val_accuracy: 0.6826\n",
            "Epoch 4/10\n",
            "184/184 [==============================] - 13s 69ms/step - loss: 0.5195 - accuracy: 0.7413 - val_loss: 0.5108 - val_accuracy: 0.7565\n",
            "Epoch 5/10\n",
            "184/184 [==============================] - 13s 70ms/step - loss: 0.4595 - accuracy: 0.7880 - val_loss: 0.5321 - val_accuracy: 0.7326\n",
            "Epoch 6/10\n",
            "184/184 [==============================] - 13s 72ms/step - loss: 0.4052 - accuracy: 0.8179 - val_loss: 0.4834 - val_accuracy: 0.7891\n",
            "Epoch 7/10\n",
            "184/184 [==============================] - 13s 70ms/step - loss: 0.3281 - accuracy: 0.8489 - val_loss: 0.5453 - val_accuracy: 0.7761\n",
            "Epoch 8/10\n",
            "184/184 [==============================] - 13s 70ms/step - loss: 0.2305 - accuracy: 0.9109 - val_loss: 0.5867 - val_accuracy: 0.7674\n",
            "Epoch 9/10\n",
            "184/184 [==============================] - 13s 71ms/step - loss: 0.1352 - accuracy: 0.9505 - val_loss: 0.8296 - val_accuracy: 0.7717\n",
            "Epoch 10/10\n",
            "184/184 [==============================] - 13s 71ms/step - loss: 0.0899 - accuracy: 0.9663 - val_loss: 0.8520 - val_accuracy: 0.7848\n"
          ]
        },
        {
          "output_type": "execute_result",
          "data": {
            "text/plain": [
              "<keras.callbacks.History at 0x7f048990dc10>"
            ]
          },
          "metadata": {},
          "execution_count": 56
        }
      ]
    },
    {
      "cell_type": "code",
      "source": [
        ""
      ],
      "metadata": {
        "id": "MeG9xfv4LxVj"
      },
      "execution_count": 47,
      "outputs": []
    }
  ]
}